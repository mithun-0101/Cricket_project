{
 "cells": [
  {
   "cell_type": "code",
   "execution_count": null,
   "id": "43254e93",
   "metadata": {},
   "outputs": [],
   "source": [
    "import pandas as pd\n",
    "import matplotlib.pyplot as plt\n",
    "\n",
    "# Load datasets\n",
    "matches = pd.read_csv(\"../data/matches.csv\")\n",
    "deliveries = pd.read_csv(\"../data/deliveries.csv\")\n",
    "\n",
    "print(\"Matches shape:\", matches.shape)\n",
    "print(\"Deliveries shape:\", deliveries.shape)\n",
    "\n",
    "matches.head()\n"
   ]
  }
 ],
 "metadata": {
  "kernelspec": {
   "display_name": ".venv (3.13.3)",
   "language": "python",
   "name": "python3"
  },
  "language_info": {
   "name": "python",
   "version": "3.13.3"
  }
 },
 "nbformat": 4,
 "nbformat_minor": 5
}
